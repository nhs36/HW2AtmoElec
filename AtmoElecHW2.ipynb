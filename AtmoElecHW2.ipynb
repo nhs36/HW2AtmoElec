{
 "metadata": {
  "name": ""
 },
 "nbformat": 3,
 "nbformat_minor": 0,
 "worksheets": [
  {
   "cells": [
    {
     "cell_type": "code",
     "collapsed": false,
     "input": [
      "import numpy as np\n",
      "import matplotlib.pyplot as plt\n",
      "from IPython.display import Image\n",
      "%pylab inline"
     ],
     "language": "python",
     "metadata": {},
     "outputs": [
      {
       "output_type": "stream",
       "stream": "stdout",
       "text": [
        "Populating the interactive namespace from numpy and matplotlib\n"
       ]
      }
     ],
     "prompt_number": 1
    },
    {
     "cell_type": "heading",
     "level": 1,
     "metadata": {},
     "source": [
      "Problem 1"
     ]
    },
    {
     "cell_type": "heading",
     "level": 2,
     "metadata": {},
     "source": [
      "Part A"
     ]
    },
    {
     "cell_type": "markdown",
     "metadata": {},
     "source": [
      "\n",
      "For a pair of concentric, hollow, conducting spherical shells of radius $a$ and $b > a$, show that $E=q/(4 \\pi \\epsilon r^2)$ for $a<r<b$ (T.69) and derive $C=4\\pi\\epsilon a$ for  b at $\\infty$\n",
      " (T.71) by using $q=C\\phi$\n",
      " \n",
      " $\\int\\limits_a^b \\frac{a+b}{a-b}$\n",
      " \n",
      " $\\vec{E} = \\large{\\frac{1}{4 \\pi \\epsilon} \\frac{q}{h^2}}$"
     ]
    },
    {
     "cell_type": "code",
     "collapsed": false,
     "input": [
      "epsilon = 2.0\n",
      "z=np.arange(0,25,0.02)"
     ],
     "language": "python",
     "metadata": {},
     "outputs": [],
     "prompt_number": 57
    },
    {
     "cell_type": "code",
     "collapsed": false,
     "input": [
      "def point_charge(h,q,z):\n",
      "    E = (1/(np.pi*4*epsilon*(h-z))**2)*q\n",
      "    return E"
     ],
     "language": "python",
     "metadata": {},
     "outputs": [],
     "prompt_number": 58
    },
    {
     "cell_type": "code",
     "collapsed": false,
     "input": [
      "E1 = point_charge(5,2,z)\n",
      "plt.plot(z,E1)\n",
      "plt.show()"
     ],
     "language": "python",
     "metadata": {},
     "outputs": [
      {
       "metadata": {},
       "output_type": "display_data",
       "png": "[encoded data removed]",
       "text": [
        "<matplotlib.figure.Figure at 0xdc8d5f8>"
       ]
      }
     ],
     "prompt_number": 59
    },
    {
     "cell_type": "heading",
     "level": 2,
     "metadata": {},
     "source": [
      "Part B"
     ]
    },
    {
     "cell_type": "markdown",
     "metadata": {},
     "source": [
      "$\\int \\limits_0^A \\frac{2\\pi \\sigma \\; r \\; dr \\; dh \\; \\hat{a} }{\\sqrt{h^2 + z^2}}$"
     ]
    },
    {
     "cell_type": "markdown",
     "metadata": {},
     "source": [
      "\n",
      "$\\int \\limits_{Z_{1}}^{Z_{2}} \\int \\limits_0^A \\frac{a+b}{a-b}$\n",
      " \n",
      "$\\vec{E} = \\large{\\frac{1}{4 \\pi \\epsilon} \\frac{q}{h^2}}$\n",
      "\n",
      "$ \\triangle$"
     ]
    },
    {
     "cell_type": "heading",
     "level": 2,
     "metadata": {},
     "source": [
      "Part C"
     ]
    },
    {
     "cell_type": "code",
     "collapsed": false,
     "input": [
      "Esum = (point_charge(7,2,z)+ point_charge(9,2,z) + \n",
      "        point_charge(11,2,z)+point_charge(13,2,z))"
     ],
     "language": "python",
     "metadata": {},
     "outputs": [],
     "prompt_number": 60
    },
    {
     "cell_type": "code",
     "collapsed": false,
     "input": [
      "plt.plot(z,Esum)\n",
      "plt.show()"
     ],
     "language": "python",
     "metadata": {},
     "outputs": [
      {
       "metadata": {},
       "output_type": "display_data",
       "png": "[encoded data removed]",
       "text": [
        "<matplotlib.figure.Figure at 0xdc9df98>"
       ]
      }
     ],
     "prompt_number": 61
    },
    {
     "cell_type": "code",
     "collapsed": false,
     "input": [],
     "language": "python",
     "metadata": {},
     "outputs": []
    }
   ],
   "metadata": {}
  }
 ]
}