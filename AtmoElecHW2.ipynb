{
 "metadata": {
  "name": ""
 },
 "nbformat": 3,
 "nbformat_minor": 0,
 "worksheets": [
  {
   "cells": [
    {
     "cell_type": "heading",
     "level": 1,
     "metadata": {},
     "source": [
      "HW2 Atmospheric Electricity"
     ]
    },
    {
     "cell_type": "code",
     "collapsed": false,
     "input": [
      "import numpy as np\n",
      "import matplotlib.pyplot as plt\n",
      "from IPython.display import Image\n",
      "%pylab inline\n",
      "\n",
      "i = Image(filename='Images/HW2_fig1.png')"
     ],
     "language": "python",
     "metadata": {},
     "outputs": [
      {
       "output_type": "stream",
       "stream": "stdout",
       "text": [
        "Populating the interactive namespace from numpy and matplotlib\n"
       ]
      }
     ],
     "prompt_number": 1
    },
    {
     "cell_type": "heading",
     "level": 2,
     "metadata": {},
     "source": [
      "Problem 1"
     ]
    },
    {
     "cell_type": "heading",
     "level": 3,
     "metadata": {},
     "source": [
      "Part A-   $\\; \\vec{E}$ field for a single point charge"
     ]
    },
    {
     "cell_type": "markdown",
     "metadata": {},
     "source": [
      "$\\vec{E}$ field for a point charge"
     ]
    },
    {
     "cell_type": "markdown",
     "metadata": {},
     "source": [
      "The equation for the $\\vec{E}$ field around a point charge is  $\\vec{E} = \\large{\\frac{1}{4 \\pi \\epsilon} \\frac{q}{h^2}}$ where h is the height, or distance, between the two charges."
     ]
    },
    {
     "cell_type": "heading",
     "level": 3,
     "metadata": {},
     "source": [
      "Part B- $\\; \\vec{E}$ field for a single cylinder of charge"
     ]
    },
    {
     "cell_type": "markdown",
     "metadata": {},
     "source": [
      "To find the $\\vec{E}$ field alond the axis of symetry of a cylinder of charge with radius A and height B I'll use the figure below.  The labels in blue represent constant values of the cylinder, and the values labeled in green represent quantities that will be used during the integration."
     ]
    },
    {
     "cell_type": "code",
     "collapsed": false,
     "input": [
      "i"
     ],
     "language": "python",
     "metadata": {},
     "outputs": [
      {
       "metadata": {},
       "output_type": "pyout",
       "png": "[encoded data removed]",
       "prompt_number": 2,
       "text": [
        "<IPython.core.display.Image at 0x63755f8>"
       ]
      }
     ],
     "prompt_number": 2
    },
    {
     "cell_type": "markdown",
     "metadata": {},
     "source": [
      "Given a constant charge density, $\\sigma$, lets imagine we are looking at a ring of charge with radius $r$, a width of $dr$ and a height of $dh$.  The amount of charge, $q$, in this ring would be $\\sigma \\; 2\\pi r\\;dr\\;dh$.  All the charge in this ring is a distance of $\\sqrt{h^2+r^2}$ away from our test point.  Using Coulomb's law we can find the $\\vec{E}$ field due to this charge as \n",
      "\n",
      "$\\vec{E} = \\large{\\frac{1}{4 \\pi \\epsilon} \\frac{\\sigma \\; 2\\pi r\\;dr\\;dh}{\\sqrt{h^2+r^2}}}\\hat{a}$.  \n",
      "\n",
      "The $\\hat{a}$ unit vector represent the componet of that is directed towards, or acting on, our test point.  The direction to our point can be expressed as $cos(L)$ where $L$ is the angle show in the figure.  This can also be written as $cos(L)=\\frac{h}{h^2+r^2}$, as $h$ is the adjacent component and $h^2+r^2$ is the hypotenuse.\n",
      "\n",
      "To find the $\\vec{E}$ field due to the entire cylinder of charge we simply integrate in height from $Z_1$ to $Z_2$ and outward from $0$ to $A$, which can be written as\n",
      "\n",
      "$\\large{\\int\\limits_{Z_{1}}^{Z_{2}} \\int\\limits_0^A \\frac{1}{4 \\pi \\epsilon} \\frac{2\\pi \\sigma \\; r\\; dr\\; dh}{\\sqrt{h^2+r^2}} \\frac{h}{h^2+r^2} = \n",
      "\\frac{\\sigma}{2\\epsilon} \\int\\limits_{Z_{1}}^{Z_{2}} \\int\\limits_0^A \\frac{ \\; r \\; dr \\; h \\; dh}{{h^2 + r^2}^{3/2}}}$\n",
      "\n",
      "Let's use a U substitution to evaluate the integral $U = (h^2+r^2)$ which means that $dU = 2\\,r \\,dr$ and the inner integral can be written as\n",
      "\n",
      "$\\int\\limits_{r=0}^{r=A} 1/2 \\; U^{-3/2} dU $"
     ]
    },
    {
     "cell_type": "heading",
     "level": 3,
     "metadata": {},
     "source": [
      "Part C"
     ]
    },
    {
     "cell_type": "code",
     "collapsed": false,
     "input": [],
     "language": "python",
     "metadata": {},
     "outputs": [],
     "prompt_number": 7
    },
    {
     "cell_type": "code",
     "collapsed": false,
     "input": [],
     "language": "python",
     "metadata": {},
     "outputs": [],
     "prompt_number": 13
    },
    {
     "cell_type": "heading",
     "level": 3,
     "metadata": {},
     "source": [
      "Part E"
     ]
    },
    {
     "cell_type": "markdown",
     "metadata": {},
     "source": [
      "Plotting some charge structure"
     ]
    },
    {
     "cell_type": "code",
     "collapsed": false,
     "input": [
      "epsilon = 2.0\n",
      "z=np.arange(0,25,0.02)\n",
      "\n",
      "def point_charge(h,q,z):\n",
      "    E = (1/(np.pi*4*epsilon*(h-z))**2)*q\n",
      "    return E"
     ],
     "language": "python",
     "metadata": {},
     "outputs": [],
     "prompt_number": 10
    },
    {
     "cell_type": "code",
     "collapsed": false,
     "input": [
      "E1 = point_charge(5,2,z)\n",
      "plt.plot(z,E1)\n",
      "plt.show()"
     ],
     "language": "python",
     "metadata": {},
     "outputs": [
      {
       "metadata": {},
       "output_type": "display_data",
       "png": "[encoded data removed]",
       "text": [
        "<matplotlib.figure.Figure at 0xb673cf8>"
       ]
      }
     ],
     "prompt_number": 12
    },
    {
     "cell_type": "code",
     "collapsed": false,
     "input": [
      "Esum = (point_charge(7,2,z)+ point_charge(9,-2,z) + \n",
      "        point_charge(11,2,z)+point_charge(13,-2,z))\n",
      "\n",
      "plt.plot(z,Esum)\n",
      "plt.show()"
     ],
     "language": "python",
     "metadata": {},
     "outputs": [
      {
       "ename": "NameError",
       "evalue": "name 'point_charge' is not defined",
       "output_type": "pyerr",
       "traceback": [
        "\u001b[1;31m---------------------------------------------------------------------------\u001b[0m\n\u001b[1;31mNameError\u001b[0m                                 Traceback (most recent call last)",
        "\u001b[1;32m<ipython-input-3-5db7cf55710b>\u001b[0m in \u001b[0;36m<module>\u001b[1;34m()\u001b[0m\n\u001b[0;32m      1\u001b[0m Esum = (point_charge(7,2,z)+ point_charge(9,-2,z) + \n\u001b[1;32m----> 2\u001b[1;33m         point_charge(11,2,z)+point_charge(13,-2,z))\n\u001b[0m\u001b[0;32m      3\u001b[0m \u001b[1;33m\u001b[0m\u001b[0m\n\u001b[0;32m      4\u001b[0m \u001b[0mplt\u001b[0m\u001b[1;33m.\u001b[0m\u001b[0mplot\u001b[0m\u001b[1;33m(\u001b[0m\u001b[0mz\u001b[0m\u001b[1;33m,\u001b[0m\u001b[0mEsum\u001b[0m\u001b[1;33m)\u001b[0m\u001b[1;33m\u001b[0m\u001b[0m\n\u001b[0;32m      5\u001b[0m \u001b[0mplt\u001b[0m\u001b[1;33m.\u001b[0m\u001b[0mshow\u001b[0m\u001b[1;33m(\u001b[0m\u001b[1;33m)\u001b[0m\u001b[1;33m\u001b[0m\u001b[0m\n",
        "\u001b[1;31mNameError\u001b[0m: name 'point_charge' is not defined"
       ]
      }
     ],
     "prompt_number": 3
    },
    {
     "cell_type": "code",
     "collapsed": false,
     "input": [],
     "language": "python",
     "metadata": {},
     "outputs": [],
     "prompt_number": 3
    },
    {
     "cell_type": "code",
     "collapsed": false,
     "input": [],
     "language": "python",
     "metadata": {},
     "outputs": [],
     "prompt_number": 3
    },
    {
     "cell_type": "code",
     "collapsed": false,
     "input": [],
     "language": "python",
     "metadata": {},
     "outputs": [],
     "prompt_number": 3
    },
    {
     "cell_type": "code",
     "collapsed": false,
     "input": [],
     "language": "python",
     "metadata": {},
     "outputs": [],
     "prompt_number": 3
    },
    {
     "cell_type": "code",
     "collapsed": false,
     "input": [],
     "language": "python",
     "metadata": {},
     "outputs": [],
     "prompt_number": 3
    },
    {
     "cell_type": "code",
     "collapsed": false,
     "input": [],
     "language": "python",
     "metadata": {},
     "outputs": []
    }
   ],
   "metadata": {}
  }
 ]
}